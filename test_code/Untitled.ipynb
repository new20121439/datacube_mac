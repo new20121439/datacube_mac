{
 "cells": [
  {
   "cell_type": "code",
   "execution_count": 30,
   "metadata": {},
   "outputs": [
    {
     "data": {
      "text/plain": [
       "'S2A_MSIL1C_20180619T094031_N0206_R036_T32PPS_20180619T114732'"
      ]
     },
     "execution_count": 30,
     "metadata": {},
     "output_type": "execute_result"
    }
   ],
   "source": [
    "from sentinelsat import SentinelAPI, read_geojson, geojson_to_wkt\n",
    "import datetime\n",
    "from geojson import Polygon\n",
    "import datetime\n",
    "\n",
    "\n",
    "class sentinel_query_task:\n",
    "    user = 'tranvandung20121439'\n",
    "    password = 'dung20121439'\n",
    "    api_url = 'https://scihub.copernicus.eu/dhus'\n",
    "    api = SentinelAPI(user, password, api_url)\n",
    "\n",
    "    def query(self, platformname, min_lon, max_lon, min_lat, max_lat, start_time, end_time):\n",
    "        def order_by(order_by='ingestiondate', ascending=False):\n",
    "            prefix_order_by = '+' if ascending else '-'\n",
    "            order_by = prefix_order_by + order_by\n",
    "            return order_by\n",
    "\n",
    "        min_lon, max_lon, min_lat, max_lat = self.validate_coord(min_lon), self.validate_coord(max_lon), self.validate_coord(min_lat), self.validate_coord(max_lat)\n",
    "        extent = Polygon([[(min_lon, max_lat),\n",
    "                           (max_lon, max_lat),\n",
    "                           (max_lon, min_lat),\n",
    "                           (min_lon, min_lat),\n",
    "                           (min_lon, max_lat)]])\n",
    "        extent = geojson_to_wkt(extent)\n",
    "\n",
    "        start_time, end_time = self.validate_date(start_time), self.validate_date(end_time)\n",
    "\n",
    "        order_by = order_by('ingestiondate', ascending=False)\n",
    "        products = self.api.query(extent,\n",
    "                             date=(start_time, end_time),\n",
    "                             area_relation='Intersects',\n",
    "                             cloudcoverpercentage=(0, 10),\n",
    "                             platformname=platformname,\n",
    "                            order_by=order_by\n",
    "                                ) #producttype='S2MSI2A'\n",
    "        self.products = products\n",
    "        products_df = self.api.to_dataframe(products)\n",
    "        self.products_df = products_df\n",
    "        return self.products_df\n",
    "\n",
    "    def validate_date(self, date):\n",
    "        if type(date) is str:\n",
    "            date = datetime.datetime.strptime(date, '%Y-%m-%d').date()\n",
    "        return date\n",
    "\n",
    "    def validate_coord(self, x):\n",
    "        return float(x)\n",
    "\n",
    "    def download(self, uuid, directory_path='.'):\n",
    "        self.api.download(uuid, directory_path)\n",
    "    \n",
    "    def get_title_by_uuid(self, uuid):\n",
    "        product_odata = self.api.get_product_odata(uuid)\n",
    "        return product_odata['title']\n",
    "sentinel_query_task().get_title_by_uuid(uuid=\"b508c597-ec0f-4cec-9c8f-5fb0d9dd15ef\")"
   ]
  },
  {
   "cell_type": "code",
   "execution_count": 40,
   "metadata": {},
   "outputs": [
    {
     "name": "stdout",
     "output_type": "stream",
     "text": [
      "/Users/mrdung/dung/learn_django/test_code/sentinel2-gcs.json\n",
      "False\n"
     ]
    }
   ],
   "source": [
    "import os\n",
    "\n",
    "path = os.path.join(os.getcwd(), 'sentinel2-gcs.json')\n",
    "print(path)\n",
    "if os.path.exists(path):\n",
    "    print(True)\n",
    "else:\n",
    "    print(False)"
   ]
  },
  {
   "cell_type": "code",
   "execution_count": 39,
   "metadata": {},
   "outputs": [
    {
     "data": {
      "text/plain": [
       "False"
      ]
     },
     "execution_count": 39,
     "metadata": {},
     "output_type": "execute_result"
    }
   ],
   "source": [
    "path"
   ]
  },
  {
   "cell_type": "code",
   "execution_count": 18,
   "metadata": {},
   "outputs": [
    {
     "ename": "SyntaxError",
     "evalue": "invalid syntax (<ipython-input-18-cc26b92cf5e5>, line 2)",
     "output_type": "error",
     "traceback": [
      "\u001b[0;36m  File \u001b[0;32m\"<ipython-input-18-cc26b92cf5e5>\"\u001b[0;36m, line \u001b[0;32m2\u001b[0m\n\u001b[0;31m    def add(x->int):\u001b[0m\n\u001b[0m              ^\u001b[0m\n\u001b[0;31mSyntaxError\u001b[0m\u001b[0;31m:\u001b[0m invalid syntax\n"
     ]
    }
   ],
   "source": [
    "a = '10'\n",
    "def add(x->int):\n",
    "    return x + 10\n",
    "add(a)"
   ]
  },
  {
   "cell_type": "code",
   "execution_count": 24,
   "metadata": {},
   "outputs": [],
   "source": [
    "a=2\n",
    "if a == 0 or a == 1:\n",
    "    print('zero or 1')"
   ]
  },
  {
   "cell_type": "code",
   "execution_count": null,
   "metadata": {},
   "outputs": [],
   "source": [
    "import pandas as pd\n",
    "\n",
    "pd.Da"
   ]
  }
 ],
 "metadata": {
  "kernelspec": {
   "display_name": "Python 3",
   "language": "python",
   "name": "python3"
  },
  "language_info": {
   "codemirror_mode": {
    "name": "ipython",
    "version": 3
   },
   "file_extension": ".py",
   "mimetype": "text/x-python",
   "name": "python",
   "nbconvert_exporter": "python",
   "pygments_lexer": "ipython3",
   "version": "3.7.3"
  }
 },
 "nbformat": 4,
 "nbformat_minor": 4
}
